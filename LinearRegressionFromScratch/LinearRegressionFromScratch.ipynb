{
 "cells": [
  {
   "cell_type": "code",
   "execution_count": 208,
   "id": "stock-arizona",
   "metadata": {},
   "outputs": [],
   "source": [
    "import pandas as pd\n",
    "import numpy as np\n",
    "import matplotlib.pyplot as plt\n",
    "import seaborn as sn\n",
    "\n",
    "%matplotlib inline\n"
   ]
  },
  {
   "cell_type": "code",
   "execution_count": 209,
   "id": "unlikely-sixth",
   "metadata": {},
   "outputs": [],
   "source": [
    "from pylab import rcParams\n",
    "rcParams['figure.figsize'] = 20, 10\n"
   ]
  },
  {
   "cell_type": "code",
   "execution_count": 210,
   "id": "above-thomas",
   "metadata": {},
   "outputs": [],
   "source": [
    "df=pd.read_csv(\"Fish.csv\")"
   ]
  },
  {
   "cell_type": "code",
   "execution_count": 211,
   "id": "innovative-tiffany",
   "metadata": {},
   "outputs": [
    {
     "data": {
      "text/html": [
       "<div>\n",
       "<style scoped>\n",
       "    .dataframe tbody tr th:only-of-type {\n",
       "        vertical-align: middle;\n",
       "    }\n",
       "\n",
       "    .dataframe tbody tr th {\n",
       "        vertical-align: top;\n",
       "    }\n",
       "\n",
       "    .dataframe thead th {\n",
       "        text-align: right;\n",
       "    }\n",
       "</style>\n",
       "<table border=\"1\" class=\"dataframe\">\n",
       "  <thead>\n",
       "    <tr style=\"text-align: right;\">\n",
       "      <th></th>\n",
       "      <th>Species</th>\n",
       "      <th>Weight</th>\n",
       "      <th>Length1</th>\n",
       "      <th>Length2</th>\n",
       "      <th>Length3</th>\n",
       "      <th>Height</th>\n",
       "      <th>Width</th>\n",
       "    </tr>\n",
       "  </thead>\n",
       "  <tbody>\n",
       "    <tr>\n",
       "      <th>0</th>\n",
       "      <td>Bream</td>\n",
       "      <td>242.0</td>\n",
       "      <td>23.2</td>\n",
       "      <td>25.4</td>\n",
       "      <td>30.0</td>\n",
       "      <td>11.5200</td>\n",
       "      <td>4.0200</td>\n",
       "    </tr>\n",
       "    <tr>\n",
       "      <th>1</th>\n",
       "      <td>Bream</td>\n",
       "      <td>290.0</td>\n",
       "      <td>24.0</td>\n",
       "      <td>26.3</td>\n",
       "      <td>31.2</td>\n",
       "      <td>12.4800</td>\n",
       "      <td>4.3056</td>\n",
       "    </tr>\n",
       "    <tr>\n",
       "      <th>2</th>\n",
       "      <td>Bream</td>\n",
       "      <td>340.0</td>\n",
       "      <td>23.9</td>\n",
       "      <td>26.5</td>\n",
       "      <td>31.1</td>\n",
       "      <td>12.3778</td>\n",
       "      <td>4.6961</td>\n",
       "    </tr>\n",
       "    <tr>\n",
       "      <th>3</th>\n",
       "      <td>Bream</td>\n",
       "      <td>363.0</td>\n",
       "      <td>26.3</td>\n",
       "      <td>29.0</td>\n",
       "      <td>33.5</td>\n",
       "      <td>12.7300</td>\n",
       "      <td>4.4555</td>\n",
       "    </tr>\n",
       "    <tr>\n",
       "      <th>4</th>\n",
       "      <td>Bream</td>\n",
       "      <td>430.0</td>\n",
       "      <td>26.5</td>\n",
       "      <td>29.0</td>\n",
       "      <td>34.0</td>\n",
       "      <td>12.4440</td>\n",
       "      <td>5.1340</td>\n",
       "    </tr>\n",
       "    <tr>\n",
       "      <th>5</th>\n",
       "      <td>Bream</td>\n",
       "      <td>450.0</td>\n",
       "      <td>26.8</td>\n",
       "      <td>29.7</td>\n",
       "      <td>34.7</td>\n",
       "      <td>13.6024</td>\n",
       "      <td>4.9274</td>\n",
       "    </tr>\n",
       "    <tr>\n",
       "      <th>6</th>\n",
       "      <td>Bream</td>\n",
       "      <td>500.0</td>\n",
       "      <td>26.8</td>\n",
       "      <td>29.7</td>\n",
       "      <td>34.5</td>\n",
       "      <td>14.1795</td>\n",
       "      <td>5.2785</td>\n",
       "    </tr>\n",
       "    <tr>\n",
       "      <th>7</th>\n",
       "      <td>Bream</td>\n",
       "      <td>390.0</td>\n",
       "      <td>27.6</td>\n",
       "      <td>30.0</td>\n",
       "      <td>35.0</td>\n",
       "      <td>12.6700</td>\n",
       "      <td>4.6900</td>\n",
       "    </tr>\n",
       "    <tr>\n",
       "      <th>8</th>\n",
       "      <td>Bream</td>\n",
       "      <td>450.0</td>\n",
       "      <td>27.6</td>\n",
       "      <td>30.0</td>\n",
       "      <td>35.1</td>\n",
       "      <td>14.0049</td>\n",
       "      <td>4.8438</td>\n",
       "    </tr>\n",
       "    <tr>\n",
       "      <th>9</th>\n",
       "      <td>Bream</td>\n",
       "      <td>500.0</td>\n",
       "      <td>28.5</td>\n",
       "      <td>30.7</td>\n",
       "      <td>36.2</td>\n",
       "      <td>14.2266</td>\n",
       "      <td>4.9594</td>\n",
       "    </tr>\n",
       "  </tbody>\n",
       "</table>\n",
       "</div>"
      ],
      "text/plain": [
       "  Species  Weight  Length1  Length2  Length3   Height   Width\n",
       "0   Bream   242.0     23.2     25.4     30.0  11.5200  4.0200\n",
       "1   Bream   290.0     24.0     26.3     31.2  12.4800  4.3056\n",
       "2   Bream   340.0     23.9     26.5     31.1  12.3778  4.6961\n",
       "3   Bream   363.0     26.3     29.0     33.5  12.7300  4.4555\n",
       "4   Bream   430.0     26.5     29.0     34.0  12.4440  5.1340\n",
       "5   Bream   450.0     26.8     29.7     34.7  13.6024  4.9274\n",
       "6   Bream   500.0     26.8     29.7     34.5  14.1795  5.2785\n",
       "7   Bream   390.0     27.6     30.0     35.0  12.6700  4.6900\n",
       "8   Bream   450.0     27.6     30.0     35.1  14.0049  4.8438\n",
       "9   Bream   500.0     28.5     30.7     36.2  14.2266  4.9594"
      ]
     },
     "execution_count": 211,
     "metadata": {},
     "output_type": "execute_result"
    }
   ],
   "source": [
    "df.head(10)\n"
   ]
  },
  {
   "cell_type": "code",
   "execution_count": 212,
   "id": "durable-graphic",
   "metadata": {},
   "outputs": [
    {
     "name": "stdout",
     "output_type": "stream",
     "text": [
      "<class 'pandas.core.frame.DataFrame'>\n",
      "RangeIndex: 159 entries, 0 to 158\n",
      "Data columns (total 7 columns):\n",
      " #   Column   Non-Null Count  Dtype  \n",
      "---  ------   --------------  -----  \n",
      " 0   Species  159 non-null    object \n",
      " 1   Weight   159 non-null    float64\n",
      " 2   Length1  159 non-null    float64\n",
      " 3   Length2  159 non-null    float64\n",
      " 4   Length3  159 non-null    float64\n",
      " 5   Height   159 non-null    float64\n",
      " 6   Width    159 non-null    float64\n",
      "dtypes: float64(6), object(1)\n",
      "memory usage: 8.8+ KB\n"
     ]
    }
   ],
   "source": [
    "df.info()"
   ]
  },
  {
   "cell_type": "code",
   "execution_count": 213,
   "id": "interracial-duplicate",
   "metadata": {},
   "outputs": [
    {
     "data": {
      "text/html": [
       "<div>\n",
       "<style scoped>\n",
       "    .dataframe tbody tr th:only-of-type {\n",
       "        vertical-align: middle;\n",
       "    }\n",
       "\n",
       "    .dataframe tbody tr th {\n",
       "        vertical-align: top;\n",
       "    }\n",
       "\n",
       "    .dataframe thead th {\n",
       "        text-align: right;\n",
       "    }\n",
       "</style>\n",
       "<table border=\"1\" class=\"dataframe\">\n",
       "  <thead>\n",
       "    <tr style=\"text-align: right;\">\n",
       "      <th></th>\n",
       "      <th>Weight</th>\n",
       "      <th>Length1</th>\n",
       "      <th>Length2</th>\n",
       "      <th>Length3</th>\n",
       "      <th>Height</th>\n",
       "      <th>Width</th>\n",
       "    </tr>\n",
       "  </thead>\n",
       "  <tbody>\n",
       "    <tr>\n",
       "      <th>count</th>\n",
       "      <td>159.000000</td>\n",
       "      <td>159.000000</td>\n",
       "      <td>159.000000</td>\n",
       "      <td>159.000000</td>\n",
       "      <td>159.000000</td>\n",
       "      <td>159.000000</td>\n",
       "    </tr>\n",
       "    <tr>\n",
       "      <th>mean</th>\n",
       "      <td>398.326415</td>\n",
       "      <td>26.247170</td>\n",
       "      <td>28.415723</td>\n",
       "      <td>31.227044</td>\n",
       "      <td>8.970994</td>\n",
       "      <td>4.417486</td>\n",
       "    </tr>\n",
       "    <tr>\n",
       "      <th>std</th>\n",
       "      <td>357.978317</td>\n",
       "      <td>9.996441</td>\n",
       "      <td>10.716328</td>\n",
       "      <td>11.610246</td>\n",
       "      <td>4.286208</td>\n",
       "      <td>1.685804</td>\n",
       "    </tr>\n",
       "    <tr>\n",
       "      <th>min</th>\n",
       "      <td>0.000000</td>\n",
       "      <td>7.500000</td>\n",
       "      <td>8.400000</td>\n",
       "      <td>8.800000</td>\n",
       "      <td>1.728400</td>\n",
       "      <td>1.047600</td>\n",
       "    </tr>\n",
       "    <tr>\n",
       "      <th>25%</th>\n",
       "      <td>120.000000</td>\n",
       "      <td>19.050000</td>\n",
       "      <td>21.000000</td>\n",
       "      <td>23.150000</td>\n",
       "      <td>5.944800</td>\n",
       "      <td>3.385650</td>\n",
       "    </tr>\n",
       "    <tr>\n",
       "      <th>50%</th>\n",
       "      <td>273.000000</td>\n",
       "      <td>25.200000</td>\n",
       "      <td>27.300000</td>\n",
       "      <td>29.400000</td>\n",
       "      <td>7.786000</td>\n",
       "      <td>4.248500</td>\n",
       "    </tr>\n",
       "    <tr>\n",
       "      <th>75%</th>\n",
       "      <td>650.000000</td>\n",
       "      <td>32.700000</td>\n",
       "      <td>35.500000</td>\n",
       "      <td>39.650000</td>\n",
       "      <td>12.365900</td>\n",
       "      <td>5.584500</td>\n",
       "    </tr>\n",
       "    <tr>\n",
       "      <th>max</th>\n",
       "      <td>1650.000000</td>\n",
       "      <td>59.000000</td>\n",
       "      <td>63.400000</td>\n",
       "      <td>68.000000</td>\n",
       "      <td>18.957000</td>\n",
       "      <td>8.142000</td>\n",
       "    </tr>\n",
       "  </tbody>\n",
       "</table>\n",
       "</div>"
      ],
      "text/plain": [
       "            Weight     Length1     Length2     Length3      Height       Width\n",
       "count   159.000000  159.000000  159.000000  159.000000  159.000000  159.000000\n",
       "mean    398.326415   26.247170   28.415723   31.227044    8.970994    4.417486\n",
       "std     357.978317    9.996441   10.716328   11.610246    4.286208    1.685804\n",
       "min       0.000000    7.500000    8.400000    8.800000    1.728400    1.047600\n",
       "25%     120.000000   19.050000   21.000000   23.150000    5.944800    3.385650\n",
       "50%     273.000000   25.200000   27.300000   29.400000    7.786000    4.248500\n",
       "75%     650.000000   32.700000   35.500000   39.650000   12.365900    5.584500\n",
       "max    1650.000000   59.000000   63.400000   68.000000   18.957000    8.142000"
      ]
     },
     "execution_count": 213,
     "metadata": {},
     "output_type": "execute_result"
    }
   ],
   "source": [
    "df.describe()"
   ]
  },
  {
   "cell_type": "code",
   "execution_count": 214,
   "id": "north-mission",
   "metadata": {},
   "outputs": [
    {
     "data": {
      "image/png": "[encoded data removed]",
      "text/plain": [
       "<Figure size 1440x720 with 2 Axes>"
      ]
     },
     "metadata": {
      "needs_background": "light"
     },
     "output_type": "display_data"
    }
   ],
   "source": [
    "corrMatrix = df.corr()\n",
    "sn.heatmap(corrMatrix, annot=True)\n",
    "plt.show()\n"
   ]
  },
  {
   "cell_type": "code",
   "execution_count": 215,
   "id": "suburban-welding",
   "metadata": {},
   "outputs": [
    {
     "data": {
      "text/plain": [
       "array([[<matplotlib.axes._subplots.AxesSubplot object at 0x7f794efb6b50>,\n",
       "        <matplotlib.axes._subplots.AxesSubplot object at 0x7f794ef36970>],\n",
       "       [<matplotlib.axes._subplots.AxesSubplot object at 0x7f794eeed250>,\n",
       "        <matplotlib.axes._subplots.AxesSubplot object at 0x7f794ef15ac0>],\n",
       "       [<matplotlib.axes._subplots.AxesSubplot object at 0x7f794eecc370>,\n",
       "        <matplotlib.axes._subplots.AxesSubplot object at 0x7f794ee75bb0>]],\n",
       "      dtype=object)"
      ]
     },
     "execution_count": 215,
     "metadata": {},
     "output_type": "execute_result"
    },
    {
     "data": {
      "image/png": "[encoded data removed]",
      "text/plain": [
       "<Figure size 1440x720 with 6 Axes>"
      ]
     },
     "metadata": {
      "needs_background": "light"
     },
     "output_type": "display_data"
    }
   ],
   "source": [
    "df.hist()"
   ]
  },
  {
   "cell_type": "code",
   "execution_count": 216,
   "id": "renewable-maker",
   "metadata": {},
   "outputs": [],
   "source": [
    "del df['Species']"
   ]
  },
  {
   "cell_type": "code",
   "execution_count": 217,
   "id": "incomplete-mattress",
   "metadata": {},
   "outputs": [],
   "source": [
    "df['Weight']=df['Weight'].astype(float)"
   ]
  },
  {
   "cell_type": "code",
   "execution_count": 218,
   "id": "undefined-webcam",
   "metadata": {},
   "outputs": [],
   "source": [
    "df['Length1']=df['Length1'].astype(float)"
   ]
  },
  {
   "cell_type": "code",
   "execution_count": 219,
   "id": "lightweight-nightlife",
   "metadata": {},
   "outputs": [],
   "source": [
    "df['Height']=df['Height'].astype(float)"
   ]
  },
  {
   "cell_type": "code",
   "execution_count": 220,
   "id": "utility-albany",
   "metadata": {},
   "outputs": [],
   "source": [
    "df['Width']=df['Width'].astype(float)"
   ]
  },
  {
   "cell_type": "code",
   "execution_count": 221,
   "id": "experienced-durham",
   "metadata": {},
   "outputs": [],
   "source": [
    "df['Length2']=df['Length2'].astype(float)"
   ]
  },
  {
   "cell_type": "code",
   "execution_count": 222,
   "id": "medium-winning",
   "metadata": {},
   "outputs": [],
   "source": [
    "df['Length3']=df['Length3'].astype(float)"
   ]
  },
  {
   "cell_type": "code",
   "execution_count": 223,
   "id": "essential-valuable",
   "metadata": {},
   "outputs": [],
   "source": [
    "def train_test_split(X):\n",
    "    X = X.sample(frac=1)\n",
    "    TRAIN_SIZE = int(0.8 * len(X))\n",
    "    train, test = X.iloc[:TRAIN_SIZE, :], X.iloc[TRAIN_SIZE:, :]\n",
    "\n",
    "    train_y, test_y = train.pop(\"Weight\"), test.pop(\"Weight\")\n",
    "\n",
    "    return (train.to_numpy(), test.to_numpy(), train_y.to_numpy(), test_y.to_numpy())\n",
    "\n",
    "x_train, x_test, y_train, y_test = train_test_split(df)\n"
   ]
  },
  {
   "cell_type": "code",
   "execution_count": 224,
   "id": "federal-superior",
   "metadata": {},
   "outputs": [],
   "source": [
    "class MyLinearReg:\n",
    "    def __init__(self):\n",
    "        self.coefs = np.random.randn(1, len(x_train[0])) # random vals for each parameter coeff\n",
    "        self.slope = 0 # slope starts at 0\n",
    "        self.predictions = []\n",
    "\n",
    "    def forward_prop(self, X):\n",
    "        # matrix multiplication between coeffs and X\n",
    "        # X.shape = n * m   coefs.shape = 1 * n     z.shape = 1 * m\n",
    "        z = np.dot(self.coefs, X) + self.slope\n",
    "        self.predictions = z\n",
    "        # adding the bias AKA slope\n",
    "        # z --> predicted vals\n",
    "        return z\n",
    "    \n",
    "    def cost_func(self, z, y):\n",
    "        # z-> predicted y-> truth\n",
    "        m = len(y) # m vals (number of vals)\n",
    "        J = (1/(2 * m)) * np.sum(np.square(z - y)) # getting squared errors\n",
    "        # multiplying by reciprocal of 2m for cost func\n",
    "        return J\n",
    "\n",
    "    def back_prop(self, X, y, z):\n",
    "        m = len(y) # m vals (number of vals)\n",
    "        d_coeffs =  (-2 / m) * np.sum((y - z) * X) #gradient of coeffs\n",
    "        d_slope = (-2 / m) * np.sum((y - z)) #gradient of slopee\n",
    "        return d_coeffs, d_slope\n",
    "    \n",
    "    def gradient_descent_update(self, d_coeffs, d_slope, lr):\n",
    "        #updating gradients\n",
    "        self.coefs = self.coefs - (lr * d_coeffs)\n",
    "        self.slope = self.slope - (lr * d_slope)\n",
    "    \n",
    "    def normalise_vals(self, arr):\n",
    "        arr = arr - arr.mean(axis=0)\n",
    "        arr = arr / np.abs(arr).max(axis=0)\n",
    "        return arr\n",
    "\n",
    "    def fit(self, x_train, y_train, x_test, y_test, lr, epochs):\n",
    "        \"\"\"\n",
    "        given X and y fitting a linear reg\n",
    "        \"\"\"\n",
    "        x_train = self.normalise_vals(x_train)\n",
    "        x_test = self.normalise_vals(x_test)\n",
    "\n",
    "        cost_train_vals = []\n",
    "        cost_test_vals = []\n",
    "\n",
    "        MAE_train_vals = []\n",
    "        MAE_test_vals = []\n",
    "\n",
    "        m_train = len(y_train)\n",
    "        m_val = len(y_test)\n",
    "\n",
    "        for epoch in range(1, epochs + 1):\n",
    "            z_train = self.forward_prop(x_train)\n",
    "            cost_train = self.cost_func(z_train, y_train)\n",
    "            dw, db = self.back_prop(x_train, y_train, z_train)\n",
    "            self.gradient_descent_update(dw, db, lr)\n",
    "\n",
    "            #Mean absolute error MAE\n",
    "            MAE_train = (1 / m_train) * np.sum(np.abs(z_train - y_train))\n",
    "\n",
    "            #validation set\n",
    "            z_val = self.forward_prop(x_test)\n",
    "            cost_val = self.cost_func(z_val, y_test)\n",
    "            MAE_val = (1 / m_val) * np.sum(np.abs(z_val - y_test))\n",
    "            \n",
    "            #storing vals for graphing\n",
    "            cost_train_vals.append(cost_train)\n",
    "            cost_test_vals.append(cost_val)\n",
    "\n",
    "            MAE_train_vals.append(MAE_train)\n",
    "            MAE_test_vals.append(MAE_val)\n",
    "\n",
    "            #prinitng out\n",
    "            if epoch % 10 == 0:\n",
    "                print(f\"EPOCHS {epoch} / {epochs} training MAE {MAE_train} validation MAE {MAE_val} training cost {cost_train} validation cost {cost_val}\")\n",
    "        \n",
    "        # plotting graph\n",
    "        fig, ax = plt.subplots(1, 2)\n",
    "        \n",
    "        ax[0].plot(cost_train_vals)\n",
    "        ax[0].scatter([x for x in range(len(cost_train_vals))], cost_train_vals, label=\"train_set\")\n",
    "        ax[0].scatter([x for x in range(len(cost_test_vals))], cost_test_vals, label=\"test_set\")\n",
    "        ax[0].plot(cost_test_vals)\n",
    "        ax[0].title.set_text('Cost')\n",
    "        ax[0].legend()\n",
    "\n",
    "        ax[1].plot(MAE_train_vals)\n",
    "        ax[1].scatter([x for x in range(len(MAE_train_vals))], MAE_train_vals, label=\"train_set\")\n",
    "        ax[1].scatter([x for x in range(len(MAE_test_vals))], MAE_test_vals, label=\"test_set\")\n",
    "        ax[1].plot(MAE_test_vals)\n",
    "        ax[1].title.set_text('MAE')\n",
    "        ax[1].legend()\n",
    "\n",
    "\n",
    "        return (self.slope, self.coefs)\n",
    "    \n",
    "    def R2_val (self, X, y):\n",
    "        m = len(y)\n",
    "        z = np.dot(self.coefs, X.T) + self.slope\n",
    "\n",
    "        # variation across line\n",
    "        ss = np.sum((y - z) **2)\n",
    "        ss /= m\n",
    "\n",
    "        # variation across mean\n",
    "        mean = np.mean(y)\n",
    "        var_mean = np.sum((y - mean) ** 2)\n",
    "        var_mean /= m \n",
    "\n",
    "        print(f\"var across line {ss} || var across mean {var_mean}\")\n",
    "        r2 = 1 - ss / var_mean\n",
    "        return abs(r2)\n"
   ]
  },
  {
   "cell_type": "code",
   "execution_count": 249,
   "id": "express-arnold",
   "metadata": {},
   "outputs": [
    {
     "name": "stdout",
     "output_type": "stream",
     "text": [
      "EPOCHS 10 / 50 training MAE 323.9906977654902 validation MAE 434.20174285775016 training cost 108558.52701566288 validation cost 161648.03670430134\n",
      "EPOCHS 20 / 50 training MAE 287.8190944658211 validation MAE 399.0620168278002 training cost 92211.12965928018 validation cost 139995.87803671538\n",
      "EPOCHS 30 / 50 training MAE 272.19822017309286 validation MAE 376.31138869855977 training cost 81297.47686671096 validation cost 124651.09193212443\n",
      "EPOCHS 40 / 50 training MAE 267.104647323805 validation MAE 361.0683699779282 training cost 74011.43526142449 validation cost 113679.89598420422\n",
      "EPOCHS 50 / 50 training MAE 264.89398804895814 validation MAE 351.48428520956196 training cost 69147.21580319596 validation cost 105761.51244593697\n"
     ]
    },
    {
     "data": {
      "image/png": "[encoded data removed]",
      "text/plain": [
       "<Figure size 1440x720 with 2 Axes>"
      ]
     },
     "metadata": {
      "needs_background": "light"
     },
     "output_type": "display_data"
    }
   ],
   "source": [
    "linearReg = MyLinearReg()\n",
    "LEARNING_RATE = 0.01\n",
    "EPOCHS = 50\n",
    "slope, coeff = linearReg.fit(x_train.T, y_train, x_test.T, y_test, LEARNING_RATE, EPOCHS)\n"
   ]
  },
  {
   "cell_type": "code",
   "execution_count": 250,
   "id": "floral-enclosure",
   "metadata": {},
   "outputs": [
    {
     "data": {
      "text/html": [
       "<div>\n",
       "<style scoped>\n",
       "    .dataframe tbody tr th:only-of-type {\n",
       "        vertical-align: middle;\n",
       "    }\n",
       "\n",
       "    .dataframe tbody tr th {\n",
       "        vertical-align: top;\n",
       "    }\n",
       "\n",
       "    .dataframe thead th {\n",
       "        text-align: right;\n",
       "    }\n",
       "</style>\n",
       "<table border=\"1\" class=\"dataframe\">\n",
       "  <thead>\n",
       "    <tr style=\"text-align: right;\">\n",
       "      <th></th>\n",
       "      <th>Weight</th>\n",
       "      <th>Length1</th>\n",
       "      <th>Length2</th>\n",
       "      <th>Length3</th>\n",
       "      <th>Height</th>\n",
       "      <th>Width</th>\n",
       "    </tr>\n",
       "  </thead>\n",
       "  <tbody>\n",
       "    <tr>\n",
       "      <th>count</th>\n",
       "      <td>159.000000</td>\n",
       "      <td>159.000000</td>\n",
       "      <td>159.000000</td>\n",
       "      <td>159.000000</td>\n",
       "      <td>159.000000</td>\n",
       "      <td>159.000000</td>\n",
       "    </tr>\n",
       "    <tr>\n",
       "      <th>mean</th>\n",
       "      <td>398.326415</td>\n",
       "      <td>26.247170</td>\n",
       "      <td>28.415723</td>\n",
       "      <td>31.227044</td>\n",
       "      <td>8.970994</td>\n",
       "      <td>4.417486</td>\n",
       "    </tr>\n",
       "    <tr>\n",
       "      <th>std</th>\n",
       "      <td>357.978317</td>\n",
       "      <td>9.996441</td>\n",
       "      <td>10.716328</td>\n",
       "      <td>11.610246</td>\n",
       "      <td>4.286208</td>\n",
       "      <td>1.685804</td>\n",
       "    </tr>\n",
       "    <tr>\n",
       "      <th>min</th>\n",
       "      <td>0.000000</td>\n",
       "      <td>7.500000</td>\n",
       "      <td>8.400000</td>\n",
       "      <td>8.800000</td>\n",
       "      <td>1.728400</td>\n",
       "      <td>1.047600</td>\n",
       "    </tr>\n",
       "    <tr>\n",
       "      <th>25%</th>\n",
       "      <td>120.000000</td>\n",
       "      <td>19.050000</td>\n",
       "      <td>21.000000</td>\n",
       "      <td>23.150000</td>\n",
       "      <td>5.944800</td>\n",
       "      <td>3.385650</td>\n",
       "    </tr>\n",
       "    <tr>\n",
       "      <th>50%</th>\n",
       "      <td>273.000000</td>\n",
       "      <td>25.200000</td>\n",
       "      <td>27.300000</td>\n",
       "      <td>29.400000</td>\n",
       "      <td>7.786000</td>\n",
       "      <td>4.248500</td>\n",
       "    </tr>\n",
       "    <tr>\n",
       "      <th>75%</th>\n",
       "      <td>650.000000</td>\n",
       "      <td>32.700000</td>\n",
       "      <td>35.500000</td>\n",
       "      <td>39.650000</td>\n",
       "      <td>12.365900</td>\n",
       "      <td>5.584500</td>\n",
       "    </tr>\n",
       "    <tr>\n",
       "      <th>max</th>\n",
       "      <td>1650.000000</td>\n",
       "      <td>59.000000</td>\n",
       "      <td>63.400000</td>\n",
       "      <td>68.000000</td>\n",
       "      <td>18.957000</td>\n",
       "      <td>8.142000</td>\n",
       "    </tr>\n",
       "  </tbody>\n",
       "</table>\n",
       "</div>"
      ],
      "text/plain": [
       "            Weight     Length1     Length2     Length3      Height       Width\n",
       "count   159.000000  159.000000  159.000000  159.000000  159.000000  159.000000\n",
       "mean    398.326415   26.247170   28.415723   31.227044    8.970994    4.417486\n",
       "std     357.978317    9.996441   10.716328   11.610246    4.286208    1.685804\n",
       "min       0.000000    7.500000    8.400000    8.800000    1.728400    1.047600\n",
       "25%     120.000000   19.050000   21.000000   23.150000    5.944800    3.385650\n",
       "50%     273.000000   25.200000   27.300000   29.400000    7.786000    4.248500\n",
       "75%     650.000000   32.700000   35.500000   39.650000   12.365900    5.584500\n",
       "max    1650.000000   59.000000   63.400000   68.000000   18.957000    8.142000"
      ]
     },
     "execution_count": 250,
     "metadata": {},
     "output_type": "execute_result"
    }
   ],
   "source": [
    "df.describe()"
   ]
  },
  {
   "cell_type": "code",
   "execution_count": 251,
   "id": "floating-satin",
   "metadata": {},
   "outputs": [
    {
     "data": {
      "text/plain": [
       "(239.17763102979356,\n",
       " array([[ 0.43680757,  0.29248651, -1.74723084, -1.13083673, -0.99469519]]))"
      ]
     },
     "execution_count": 251,
     "metadata": {},
     "output_type": "execute_result"
    }
   ],
   "source": [
    " slope, coeff\n"
   ]
  },
  {
   "cell_type": "code",
   "execution_count": 252,
   "id": "seven-structure",
   "metadata": {},
   "outputs": [
    {
     "name": "stdout",
     "output_type": "stream",
     "text": [
      "var across line 255049.47551292466 || var across mean 152521.91561523438\n",
      "--------------------\n",
      "R SQUARED = 0.6722152648301087\n"
     ]
    }
   ],
   "source": [
    "r2 = linearReg.R2_val(x_test, y_test)\n",
    "print(\"-\"*20)\n",
    "print(f\"R SQUARED = {r2}\")\n"
   ]
  },
  {
   "cell_type": "code",
   "execution_count": 253,
   "id": "black-welsh",
   "metadata": {},
   "outputs": [
    {
     "data": {
      "image/png": "[encoded data removed]",
      "text/plain": [
       "<Figure size 1440x720 with 1 Axes>"
      ]
     },
     "metadata": {
      "needs_background": "light"
     },
     "output_type": "display_data"
    }
   ],
   "source": [
    "fig, ax = plt.subplots()\n",
    "ax.scatter([x for x in range(y_test.shape[0])], y_test, label=\"actual\")\n",
    "ax.scatter([x for x in range(linearReg.predictions.shape[1])], linearReg.predictions, label = \"predictions\")\n",
    "ax.legend()\n",
    "plt.title(\"Actual  VS predicted\")\n",
    "plt.show()\n",
    " "
   ]
  },
  {
   "cell_type": "code",
   "execution_count": 254,
   "id": "synthetic-going",
   "metadata": {},
   "outputs": [],
   "source": [
    " from sklearn.linear_model import LinearRegression\n",
    "model = LinearRegression().fit(x_train, y_train)\n"
   ]
  },
  {
   "cell_type": "code",
   "execution_count": 255,
   "id": "endless-gentleman",
   "metadata": {},
   "outputs": [
    {
     "name": "stdout",
     "output_type": "stream",
     "text": [
      "-489.0096632239906\n",
      "[ 67.88346422 -10.7507045  -29.56369354  28.46849806  16.50488414]\n"
     ]
    }
   ],
   "source": [
    " print(f\"{model.intercept_}\\n{model.coef_}\")\n"
   ]
  },
  {
   "cell_type": "code",
   "execution_count": 256,
   "id": "referenced-announcement",
   "metadata": {},
   "outputs": [
    {
     "name": "stdout",
     "output_type": "stream",
     "text": [
      "Model score (R squared) val with training set 0.8879590329135785\n",
      "----------------------------------------\n",
      "Model score (R squared) val with testing set 0.8674518406443346\n"
     ]
    }
   ],
   "source": [
    " print(f\"Model score (R squared) val with training set {model.score(x_train, y_train)}\")\n",
    "print(\"--\"*20)\n",
    "print(f\"Model score (R squared) val with testing set {model.score(x_test, y_test)}\")\n"
   ]
  },
  {
   "cell_type": "code",
   "execution_count": null,
   "id": "environmental-senior",
   "metadata": {},
   "outputs": [],
   "source": [
    " "
   ]
  },
  {
   "cell_type": "code",
   "execution_count": 101,
   "id": "contrary-stock",
   "metadata": {},
   "outputs": [],
   "source": [
    " "
   ]
  },
  {
   "cell_type": "code",
   "execution_count": 102,
   "id": "spectacular-cheese",
   "metadata": {},
   "outputs": [
    {
     "data": {
      "text/html": [
       "<div>\n",
       "<style scoped>\n",
       "    .dataframe tbody tr th:only-of-type {\n",
       "        vertical-align: middle;\n",
       "    }\n",
       "\n",
       "    .dataframe tbody tr th {\n",
       "        vertical-align: top;\n",
       "    }\n",
       "\n",
       "    .dataframe thead th {\n",
       "        text-align: right;\n",
       "    }\n",
       "</style>\n",
       "<table border=\"1\" class=\"dataframe\">\n",
       "  <thead>\n",
       "    <tr style=\"text-align: right;\">\n",
       "      <th></th>\n",
       "      <th>Species</th>\n",
       "      <th>Weight</th>\n",
       "      <th>Length1</th>\n",
       "      <th>Length2</th>\n",
       "      <th>Length3</th>\n",
       "      <th>Height</th>\n",
       "      <th>Width</th>\n",
       "    </tr>\n",
       "  </thead>\n",
       "  <tbody>\n",
       "    <tr>\n",
       "      <th>count</th>\n",
       "      <td>159</td>\n",
       "      <td>159</td>\n",
       "      <td>159</td>\n",
       "      <td>159</td>\n",
       "      <td>159</td>\n",
       "      <td>159</td>\n",
       "      <td>159</td>\n",
       "    </tr>\n",
       "    <tr>\n",
       "      <th>unique</th>\n",
       "      <td>7</td>\n",
       "      <td>101</td>\n",
       "      <td>116</td>\n",
       "      <td>93</td>\n",
       "      <td>124</td>\n",
       "      <td>154</td>\n",
       "      <td>152</td>\n",
       "    </tr>\n",
       "    <tr>\n",
       "      <th>top</th>\n",
       "      <td>Perch</td>\n",
       "      <td>300.0</td>\n",
       "      <td>19.0</td>\n",
       "      <td>22.0</td>\n",
       "      <td>23.5</td>\n",
       "      <td>2.2139</td>\n",
       "      <td>3.525</td>\n",
       "    </tr>\n",
       "    <tr>\n",
       "      <th>freq</th>\n",
       "      <td>56</td>\n",
       "      <td>6</td>\n",
       "      <td>6</td>\n",
       "      <td>7</td>\n",
       "      <td>5</td>\n",
       "      <td>2</td>\n",
       "      <td>3</td>\n",
       "    </tr>\n",
       "  </tbody>\n",
       "</table>\n",
       "</div>"
      ],
      "text/plain": [
       "       Species Weight Length1 Length2 Length3  Height  Width\n",
       "count      159    159     159     159     159     159    159\n",
       "unique       7    101     116      93     124     154    152\n",
       "top      Perch  300.0    19.0    22.0    23.5  2.2139  3.525\n",
       "freq        56      6       6       7       5       2      3"
      ]
     },
     "execution_count": 102,
     "metadata": {},
     "output_type": "execute_result"
    }
   ],
   "source": [
    "df.describe()"
   ]
  },
  {
   "cell_type": "code",
   "execution_count": 103,
   "id": "confidential-broad",
   "metadata": {},
   "outputs": [
    {
     "name": "stdout",
     "output_type": "stream",
     "text": [
      "<class 'pandas.core.frame.DataFrame'>\n",
      "RangeIndex: 159 entries, 0 to 158\n",
      "Data columns (total 7 columns):\n",
      " #   Column   Non-Null Count  Dtype \n",
      "---  ------   --------------  ----- \n",
      " 0   Species  159 non-null    object\n",
      " 1   Weight   159 non-null    object\n",
      " 2   Length1  159 non-null    object\n",
      " 3   Length2  159 non-null    object\n",
      " 4   Length3  159 non-null    object\n",
      " 5   Height   159 non-null    object\n",
      " 6   Width    159 non-null    object\n",
      "dtypes: object(7)\n",
      "memory usage: 8.8+ KB\n"
     ]
    }
   ],
   "source": [
    "df.info()"
   ]
  },
  {
   "cell_type": "code",
   "execution_count": null,
   "id": "steady-referral",
   "metadata": {},
   "outputs": [],
   "source": []
  },
  {
   "cell_type": "code",
   "execution_count": null,
   "id": "flush-mistake",
   "metadata": {},
   "outputs": [],
   "source": []
  },
  {
   "cell_type": "code",
   "execution_count": null,
   "id": "political-angel",
   "metadata": {},
   "outputs": [],
   "source": [
    " "
   ]
  },
  {
   "cell_type": "code",
   "execution_count": null,
   "id": "partial-monte",
   "metadata": {},
   "outputs": [],
   "source": []
  },
  {
   "cell_type": "code",
   "execution_count": null,
   "id": "behind-singing",
   "metadata": {},
   "outputs": [],
   "source": []
  },
  {
   "cell_type": "code",
   "execution_count": null,
   "id": "amino-pencil",
   "metadata": {},
   "outputs": [],
   "source": []
  },
  {
   "cell_type": "code",
   "execution_count": null,
   "id": "amazing-township",
   "metadata": {},
   "outputs": [],
   "source": []
  },
  {
   "cell_type": "code",
   "execution_count": null,
   "id": "characteristic-basin",
   "metadata": {},
   "outputs": [],
   "source": []
  },
  {
   "cell_type": "code",
   "execution_count": null,
   "id": "happy-stroke",
   "metadata": {},
   "outputs": [],
   "source": []
  },
  {
   "cell_type": "code",
   "execution_count": null,
   "id": "radio-parent",
   "metadata": {},
   "outputs": [],
   "source": []
  },
  {
   "cell_type": "code",
   "execution_count": null,
   "id": "bronze-portsmouth",
   "metadata": {},
   "outputs": [],
   "source": []
  }
 ],
 "metadata": {
  "kernelspec": {
   "display_name": "Python 3",
   "language": "python",
   "name": "python3"
  },
  "language_info": {
   "codemirror_mode": {
    "name": "ipython",
    "version": 3
   },
   "file_extension": ".py",
   "mimetype": "text/x-python",
   "name": "python",
   "nbconvert_exporter": "python",
   "pygments_lexer": "ipython3",
   "version": "3.8.10"
  }
 },
 "nbformat": 4,
 "nbformat_minor": 5
}
